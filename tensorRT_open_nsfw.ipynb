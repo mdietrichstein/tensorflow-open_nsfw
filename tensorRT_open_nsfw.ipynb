{
  "nbformat": 4,
  "nbformat_minor": 0,
  "metadata": {
    "colab": {
      "name": "tensorRT_open_nsfw.ipynb",
      "version": "0.3.2",
      "provenance": [],
      "collapsed_sections": [],
      "include_colab_link": true
    },
    "kernelspec": {
      "name": "python3",
      "display_name": "Python 3"
    },
    "accelerator": "GPU"
  },
  "cells": [
    {
      "cell_type": "markdown",
      "metadata": {
        "id": "view-in-github",
        "colab_type": "text"
      },
      "source": [
        "<a href=\"https://colab.research.google.com/github/mogoweb/tensorflow-open_nsfw/blob/master/tensorRT_open_nsfw.ipynb\" target=\"_parent\"><img src=\"https://colab.research.google.com/assets/colab-badge.svg\" alt=\"Open In Colab\"/></a>"
      ]
    },
    {
      "cell_type": "markdown",
      "metadata": {
        "id": "xe6hD4iNLqeM",
        "colab_type": "text"
      },
      "source": [
        "挂载谷歌云端硬盘："
      ]
    },
    {
      "cell_type": "code",
      "metadata": {
        "id": "Mc9cjROIKbhV",
        "colab_type": "code",
        "outputId": "395ed6ef-1742-4f96-bcf6-11df007c6cbe",
        "colab": {
          "base_uri": "https://localhost:8080/",
          "height": 122
        }
      },
      "source": [
        "from google.colab import drive\n",
        "\n",
        "drive.mount('/content/gdrive')"
      ],
      "execution_count": 2,
      "outputs": [
        {
          "output_type": "stream",
          "text": [
            "Go to this URL in a browser: https://accounts.google.com/o/oauth2/auth?client_id=947318989803-6bn6qk8qdgf4n4g3pfee6491hc0brc4i.apps.googleusercontent.com&redirect_uri=urn%3Aietf%3Awg%3Aoauth%3A2.0%3Aoob&scope=email%20https%3A%2F%2Fwww.googleapis.com%2Fauth%2Fdocs.test%20https%3A%2F%2Fwww.googleapis.com%2Fauth%2Fdrive%20https%3A%2F%2Fwww.googleapis.com%2Fauth%2Fdrive.photos.readonly%20https%3A%2F%2Fwww.googleapis.com%2Fauth%2Fpeopleapi.readonly&response_type=code\n",
            "\n",
            "Enter your authorization code:\n",
            "··········\n",
            "Mounted at /content/gdrive\n"
          ],
          "name": "stdout"
        }
      ]
    },
    {
      "cell_type": "markdown",
      "metadata": {
        "id": "-3rgbC3rL2ED",
        "colab_type": "text"
      },
      "source": [
        "切换当前目录为Google云端硬盘的项目文件夹："
      ]
    },
    {
      "cell_type": "code",
      "metadata": {
        "id": "gUQzSOY6LLsA",
        "colab_type": "code",
        "colab": {}
      },
      "source": [
        "import os\n",
        "\n",
        "project_path = '/content/gdrive/My Drive/nvidia'  #change dir to your project folder\n",
        "os.chdir(project_path)  #change dir"
      ],
      "execution_count": 0,
      "outputs": []
    },
    {
      "cell_type": "markdown",
      "metadata": {
        "id": "HgwCQ5q4MFWM",
        "colab_type": "text"
      },
      "source": [
        "确定CUDA，Ubuntu，TensorFlow的版本："
      ]
    },
    {
      "cell_type": "code",
      "metadata": {
        "id": "25mR1mIALoBU",
        "colab_type": "code",
        "outputId": "6d7c3fec-f1de-431e-9584-cf44740c9739",
        "colab": {
          "base_uri": "https://localhost:8080/",
          "height": 136
        }
      },
      "source": [
        "!nvcc --version\n",
        "!cat /etc/issue\n",
        "import tensorflow as tf\n",
        "print(tf.__version__)"
      ],
      "execution_count": 3,
      "outputs": [
        {
          "output_type": "stream",
          "text": [
            "nvcc: NVIDIA (R) Cuda compiler driver\n",
            "Copyright (c) 2005-2018 NVIDIA Corporation\n",
            "Built on Sat_Aug_25_21:08:01_CDT_2018\n",
            "Cuda compilation tools, release 10.0, V10.0.130\n",
            "Ubuntu 18.04.2 LTS \\n \\l\n",
            "\n",
            "1.13.1\n"
          ],
          "name": "stdout"
        }
      ]
    },
    {
      "cell_type": "markdown",
      "metadata": {
        "id": "r2861TTMbWU8",
        "colab_type": "text"
      },
      "source": [
        "下载TensorRT，由于nvidia官网下载需要注册、登录等诸多步骤，而且Google云端硬盘的上传速度比较慢，所以我放了一份拷贝到dropbox中，从dropbox下载要快得多："
      ]
    },
    {
      "cell_type": "code",
      "metadata": {
        "id": "WZYqDe7wbMnD",
        "colab_type": "code",
        "outputId": "9462488b-cbe7-4522-d96c-f94cb273f65f",
        "colab": {
          "base_uri": "https://localhost:8080/",
          "height": 445
        }
      },
      "source": [
        "!wget -O nv-tensorrt-repo-ubuntu1804-cuda10.0-trt5.1.2.2-rc-20190227_1-1_amd64.deb https://www.dropbox.com/s/45pz13r4e8ip4bl/nv-tensorrt-repo-ubuntu1804-cuda10.0-trt5.1.2.2-rc-20190227_1-1_amd64.deb?dl=0"
      ],
      "execution_count": 4,
      "outputs": [
        {
          "output_type": "stream",
          "text": [
            "--2019-05-20 02:44:12--  https://www.dropbox.com/s/45pz13r4e8ip4bl/nv-tensorrt-repo-ubuntu1804-cuda10.0-trt5.1.2.2-rc-20190227_1-1_amd64.deb?dl=0\n",
            "Resolving www.dropbox.com (www.dropbox.com)... 162.125.3.1, 2620:100:601b:1::a27d:801\n",
            "Connecting to www.dropbox.com (www.dropbox.com)|162.125.3.1|:443... connected.\n",
            "HTTP request sent, awaiting response... 301 Moved Permanently\n",
            "Location: /s/raw/45pz13r4e8ip4bl/nv-tensorrt-repo-ubuntu1804-cuda10.0-trt5.1.2.2-rc-20190227_1-1_amd64.deb [following]\n",
            "--2019-05-20 02:44:13--  https://www.dropbox.com/s/raw/45pz13r4e8ip4bl/nv-tensorrt-repo-ubuntu1804-cuda10.0-trt5.1.2.2-rc-20190227_1-1_amd64.deb\n",
            "Reusing existing connection to www.dropbox.com:443.\n",
            "HTTP request sent, awaiting response... 302 Found\n",
            "Location: https://ucde3d211acf7d646f6d6c13f361.dl.dropboxusercontent.com/cd/0/inline/AhMamzIh2weX4PjyB9faTn3GPs0sEvzIn5n9XWvMt011tH--uYO43Qi5yznxbA4zFkd_dU75Wx715t-vRFppqKkQL25Is9m69byCmEZXKJxI2g/file# [following]\n",
            "--2019-05-20 02:44:13--  https://ucde3d211acf7d646f6d6c13f361.dl.dropboxusercontent.com/cd/0/inline/AhMamzIh2weX4PjyB9faTn3GPs0sEvzIn5n9XWvMt011tH--uYO43Qi5yznxbA4zFkd_dU75Wx715t-vRFppqKkQL25Is9m69byCmEZXKJxI2g/file\n",
            "Resolving ucde3d211acf7d646f6d6c13f361.dl.dropboxusercontent.com (ucde3d211acf7d646f6d6c13f361.dl.dropboxusercontent.com)... 162.125.8.6, 2620:100:601b:6::a27d:806\n",
            "Connecting to ucde3d211acf7d646f6d6c13f361.dl.dropboxusercontent.com (ucde3d211acf7d646f6d6c13f361.dl.dropboxusercontent.com)|162.125.8.6|:443... connected.\n",
            "HTTP request sent, awaiting response... 302 FOUND\n",
            "Location: /cd/0/inline2/AhO9sfOovIx7YEaGUlQcxE6ZS_z24aucCegDdXKE59dHTVhWffpj265W2tAF4Ce5Z0lv_jOWf7hjZzkOdvETj6TJ-uId-H_5rC_eaoMBww-AfdQjLijG3lgBjInVuMfAVS4FnIoOz9bAGZMvmeoi3H4Kg_yCBGXfPvObz4Xr5tM0Ls9O2HCxaF7uZ1ppQY7ZFAGe_Jg8MljkPz6JXicTndPUXsZLp4Mx7fXY7A7j0NY2usB8PsHVWx8wrxOOE8hXsloxytngc9yoqkeXqoqc0HeOJOKvCkXEEcpuSg0paPOp5julIh9NxFNCP7tVfjmp-i6XVG-WtCzAjntWTpY6jjNr/file [following]\n",
            "--2019-05-20 02:44:14--  https://ucde3d211acf7d646f6d6c13f361.dl.dropboxusercontent.com/cd/0/inline2/AhO9sfOovIx7YEaGUlQcxE6ZS_z24aucCegDdXKE59dHTVhWffpj265W2tAF4Ce5Z0lv_jOWf7hjZzkOdvETj6TJ-uId-H_5rC_eaoMBww-AfdQjLijG3lgBjInVuMfAVS4FnIoOz9bAGZMvmeoi3H4Kg_yCBGXfPvObz4Xr5tM0Ls9O2HCxaF7uZ1ppQY7ZFAGe_Jg8MljkPz6JXicTndPUXsZLp4Mx7fXY7A7j0NY2usB8PsHVWx8wrxOOE8hXsloxytngc9yoqkeXqoqc0HeOJOKvCkXEEcpuSg0paPOp5julIh9NxFNCP7tVfjmp-i6XVG-WtCzAjntWTpY6jjNr/file\n",
            "Reusing existing connection to ucde3d211acf7d646f6d6c13f361.dl.dropboxusercontent.com:443.\n",
            "HTTP request sent, awaiting response... 200 OK\n",
            "Length: 843900902 (805M) [application/x-debian-package]\n",
            "Saving to: ‘nv-tensorrt-repo-ubuntu1804-cuda10.0-trt5.1.2.2-rc-20190227_1-1_amd64.deb’\n",
            "\n",
            "nv-tensorrt-repo-ub 100%[===================>] 804.81M  48.3MB/s    in 16s     \n",
            "\n",
            "2019-05-20 02:44:30 (50.6 MB/s) - ‘nv-tensorrt-repo-ubuntu1804-cuda10.0-trt5.1.2.2-rc-20190227_1-1_amd64.deb’ saved [843900902/843900902]\n",
            "\n"
          ],
          "name": "stdout"
        }
      ]
    },
    {
      "cell_type": "code",
      "metadata": {
        "id": "5unj-ruwNCc5",
        "colab_type": "code",
        "outputId": "3819f59a-9178-499b-e063-6d9f21e37e62",
        "colab": {
          "base_uri": "https://localhost:8080/",
          "height": 2397
        }
      },
      "source": [
        "!dpkg -i nv-tensorrt-repo-ubuntu1804-cuda10.0-trt5.1.2.2-rc-20190227_1-1_amd64.deb\n",
        "!apt-key add /var/nv-tensorrt-repo-cuda10.0-trt5.1.2.2-rc-20190227/7fa2af80.pub\n",
        "!apt-get update\n",
        "!apt-get install -y --no-install-recommends libnvinfer5=5.1.2-1+cuda10.0\n",
        "!apt-get install -y --no-install-recommends libnvinfer-dev=5.1.2-1+cuda10.0\n",
        "!apt-get install tensorrt\n",
        "!apt-get install python3-libnvinfer-dev\n",
        "!apt-get install uff-converter-tf"
      ],
      "execution_count": 4,
      "outputs": [
        {
          "output_type": "stream",
          "text": [
            "Selecting previously unselected package nv-tensorrt-repo-ubuntu1804-cuda10.0-trt5.1.2.2-rc-20190227.\n",
            "(Reading database ... \r(Reading database ... 5%\r(Reading database ... 10%\r(Reading database ... 15%\r(Reading database ... 20%\r(Reading database ... 25%\r(Reading database ... 30%\r(Reading database ... 35%\r(Reading database ... 40%\r(Reading database ... 45%\r(Reading database ... 50%\r(Reading database ... 55%\r(Reading database ... 60%\r(Reading database ... 65%\r(Reading database ... 70%\r(Reading database ... 75%\r(Reading database ... 80%\r(Reading database ... 85%\r(Reading database ... 90%\r(Reading database ... 95%\r(Reading database ... 100%\r(Reading database ... 130824 files and directories currently installed.)\n",
            "Preparing to unpack nv-tensorrt-repo-ubuntu1804-cuda10.0-trt5.1.2.2-rc-20190227_1-1_amd64.deb ...\n",
            "Unpacking nv-tensorrt-repo-ubuntu1804-cuda10.0-trt5.1.2.2-rc-20190227 (1-1) ...\n",
            "Setting up nv-tensorrt-repo-ubuntu1804-cuda10.0-trt5.1.2.2-rc-20190227 (1-1) ...\n",
            "OK\n",
            "Get:1 file:/var/nv-tensorrt-repo-cuda10.0-trt5.1.2.2-rc-20190227  InRelease\n",
            "Ign:1 file:/var/nv-tensorrt-repo-cuda10.0-trt5.1.2.2-rc-20190227  InRelease\n",
            "Get:2 file:/var/nv-tensorrt-repo-cuda10.0-trt5.1.2.2-rc-20190227  Release [574 B]\n",
            "Get:2 file:/var/nv-tensorrt-repo-cuda10.0-trt5.1.2.2-rc-20190227  Release [574 B]\n",
            "Get:3 file:/var/nv-tensorrt-repo-cuda10.0-trt5.1.2.2-rc-20190227  Release.gpg [819 B]\n",
            "Get:3 file:/var/nv-tensorrt-repo-cuda10.0-trt5.1.2.2-rc-20190227  Release.gpg [819 B]\n",
            "Get:4 https://cloud.r-project.org/bin/linux/ubuntu bionic-cran35/ InRelease [3,609 B]\n",
            "Ign:5 https://developer.download.nvidia.com/compute/cuda/repos/ubuntu1804/x86_64  InRelease\n",
            "Get:6 file:/var/nv-tensorrt-repo-cuda10.0-trt5.1.2.2-rc-20190227  Packages [3,347 B]\n",
            "Ign:7 https://developer.download.nvidia.com/compute/machine-learning/repos/ubuntu1804/x86_64  InRelease\n",
            "Hit:8 https://developer.download.nvidia.com/compute/cuda/repos/ubuntu1804/x86_64  Release\n",
            "Get:9 https://developer.download.nvidia.com/compute/machine-learning/repos/ubuntu1804/x86_64  Release [564 B]\n",
            "Get:10 https://developer.download.nvidia.com/compute/machine-learning/repos/ubuntu1804/x86_64  Release.gpg [801 B]\n",
            "Get:12 https://developer.download.nvidia.com/compute/machine-learning/repos/ubuntu1804/x86_64  Packages [9,199 B]\n",
            "Hit:13 http://ppa.launchpad.net/graphics-drivers/ppa/ubuntu bionic InRelease\n",
            "Hit:14 http://archive.ubuntu.com/ubuntu bionic InRelease\n",
            "Get:15 http://security.ubuntu.com/ubuntu bionic-security InRelease [88.7 kB]\n",
            "Get:16 http://archive.ubuntu.com/ubuntu bionic-updates InRelease [88.7 kB]\n",
            "Hit:17 http://ppa.launchpad.net/marutter/c2d4u3.5/ubuntu bionic InRelease\n",
            "Get:18 http://security.ubuntu.com/ubuntu bionic-security/universe amd64 Packages [307 kB]\n",
            "Get:19 http://archive.ubuntu.com/ubuntu bionic-backports InRelease [74.6 kB]\n",
            "Get:20 http://archive.ubuntu.com/ubuntu bionic-updates/main amd64 Packages [802 kB]\n",
            "Get:21 http://security.ubuntu.com/ubuntu bionic-security/main amd64 Packages [447 kB]\n",
            "Get:22 http://archive.ubuntu.com/ubuntu bionic-updates/universe amd64 Packages [1,199 kB]\n",
            "Get:23 http://archive.ubuntu.com/ubuntu bionic-backports/universe amd64 Packages [3,671 B]\n",
            "Fetched 3,024 kB in 3s (918 kB/s)\n",
            "Reading package lists... Done\n",
            "Reading package lists... Done\n",
            "Building dependency tree       \n",
            "Reading state information... Done\n",
            "The following package was automatically installed and is no longer required:\n",
            "  libnvidia-common-410\n",
            "Use 'apt autoremove' to remove it.\n",
            "The following NEW packages will be installed:\n",
            "  libnvinfer5\n",
            "0 upgraded, 1 newly installed, 0 to remove and 12 not upgraded.\n",
            "Need to get 0 B/43.3 MB of archives.\n",
            "After this operation, 158 MB of additional disk space will be used.\n",
            "Get:1 file:/var/nv-tensorrt-repo-cuda10.0-trt5.1.2.2-rc-20190227  libnvinfer5 5.1.2-1+cuda10.0 [43.3 MB]\n",
            "Selecting previously unselected package libnvinfer5.\n",
            "(Reading database ... 130845 files and directories currently installed.)\n",
            "Preparing to unpack .../libnvinfer5_5.1.2-1+cuda10.0_amd64.deb ...\n",
            "Unpacking libnvinfer5 (5.1.2-1+cuda10.0) ...\n",
            "Setting up libnvinfer5 (5.1.2-1+cuda10.0) ...\n",
            "Processing triggers for libc-bin (2.27-3ubuntu1) ...\n",
            "Reading package lists... Done\n",
            "Building dependency tree       \n",
            "Reading state information... Done\n",
            "The following package was automatically installed and is no longer required:\n",
            "  libnvidia-common-410\n",
            "Use 'apt autoremove' to remove it.\n",
            "The following NEW packages will be installed:\n",
            "  libnvinfer-dev\n",
            "0 upgraded, 1 newly installed, 0 to remove and 13 not upgraded.\n",
            "Need to get 0 B/43.5 MB of archives.\n",
            "After this operation, 171 MB of additional disk space will be used.\n",
            "Get:1 file:/var/nv-tensorrt-repo-cuda10.0-trt5.1.2.2-rc-20190227  libnvinfer-dev 5.1.2-1+cuda10.0 [43.5 MB]\n",
            "Selecting previously unselected package libnvinfer-dev.\n",
            "(Reading database ... 130863 files and directories currently installed.)\n",
            "Preparing to unpack .../libnvinfer-dev_5.1.2-1+cuda10.0_amd64.deb ...\n",
            "Unpacking libnvinfer-dev (5.1.2-1+cuda10.0) ...\n",
            "Setting up libnvinfer-dev (5.1.2-1+cuda10.0) ...\n",
            "Reading package lists... Done\n",
            "Building dependency tree       \n",
            "Reading state information... Done\n",
            "The following package was automatically installed and is no longer required:\n",
            "  libnvidia-common-410\n",
            "Use 'apt autoremove' to remove it.\n",
            "The following additional packages will be installed:\n",
            "  libnvinfer-samples\n",
            "The following NEW packages will be installed:\n",
            "  libnvinfer-samples tensorrt\n",
            "0 upgraded, 2 newly installed, 0 to remove and 14 not upgraded.\n",
            "Need to get 0 B/464 MB of archives.\n",
            "After this operation, 838 MB of additional disk space will be used.\n",
            "Get:1 file:/var/nv-tensorrt-repo-cuda10.0-trt5.1.2.2-rc-20190227  libnvinfer-samples 5.1.2-1+cuda10.0 [463 MB]\n",
            "Get:2 file:/var/nv-tensorrt-repo-cuda10.0-trt5.1.2.2-rc-20190227  tensorrt 5.1.2.2-1+cuda10.0 [1,604 kB]\n",
            "Selecting previously unselected package libnvinfer-samples.\n",
            "(Reading database ... 130892 files and directories currently installed.)\n",
            "Preparing to unpack .../libnvinfer-samples_5.1.2-1+cuda10.0_all.deb ...\n",
            "Unpacking libnvinfer-samples (5.1.2-1+cuda10.0) ...\n",
            "Selecting previously unselected package tensorrt.\n",
            "Preparing to unpack .../tensorrt_5.1.2.2-1+cuda10.0_amd64.deb ...\n",
            "Unpacking tensorrt (5.1.2.2-1+cuda10.0) ...\n",
            "Setting up libnvinfer-samples (5.1.2-1+cuda10.0) ...\n",
            "Setting up tensorrt (5.1.2.2-1+cuda10.0) ...\n",
            "Reading package lists... Done\n",
            "Building dependency tree       \n",
            "Reading state information... Done\n",
            "The following package was automatically installed and is no longer required:\n",
            "  libnvidia-common-410\n",
            "Use 'apt autoremove' to remove it.\n",
            "The following additional packages will be installed:\n",
            "  python3-libnvinfer\n",
            "The following NEW packages will be installed:\n",
            "  python3-libnvinfer python3-libnvinfer-dev\n",
            "0 upgraded, 2 newly installed, 0 to remove and 14 not upgraded.\n",
            "Need to get 0 B/324 kB of archives.\n",
            "After this operation, 2,192 kB of additional disk space will be used.\n",
            "Get:1 file:/var/nv-tensorrt-repo-cuda10.0-trt5.1.2.2-rc-20190227  python3-libnvinfer 5.1.2-1+cuda10.0 [320 kB]\n",
            "Get:2 file:/var/nv-tensorrt-repo-cuda10.0-trt5.1.2.2-rc-20190227  python3-libnvinfer-dev 5.1.2-1+cuda10.0 [3,620 B]\n",
            "Selecting previously unselected package python3-libnvinfer.\n",
            "(Reading database ... 132989 files and directories currently installed.)\n",
            "Preparing to unpack .../python3-libnvinfer_5.1.2-1+cuda10.0_amd64.deb ...\n",
            "Unpacking python3-libnvinfer (5.1.2-1+cuda10.0) ...\n",
            "Selecting previously unselected package python3-libnvinfer-dev.\n",
            "Preparing to unpack .../python3-libnvinfer-dev_5.1.2-1+cuda10.0_amd64.deb ...\n",
            "Unpacking python3-libnvinfer-dev (5.1.2-1+cuda10.0) ...\n",
            "Setting up python3-libnvinfer (5.1.2-1+cuda10.0) ...\n",
            "Setting up python3-libnvinfer-dev (5.1.2-1+cuda10.0) ...\n",
            "Reading package lists... Done\n",
            "Building dependency tree       \n",
            "Reading state information... Done\n",
            "The following package was automatically installed and is no longer required:\n",
            "  libnvidia-common-410\n",
            "Use 'apt autoremove' to remove it.\n",
            "The following additional packages will be installed:\n",
            "  graphsurgeon-tf\n",
            "The following NEW packages will be installed:\n",
            "  graphsurgeon-tf uff-converter-tf\n",
            "0 upgraded, 2 newly installed, 0 to remove and 14 not upgraded.\n",
            "Need to get 0 B/53.6 kB of archives.\n",
            "After this operation, 770 kB of additional disk space will be used.\n",
            "Get:1 file:/var/nv-tensorrt-repo-cuda10.0-trt5.1.2.2-rc-20190227  graphsurgeon-tf 5.1.2-1+cuda10.0 [16.1 kB]\n",
            "Get:2 file:/var/nv-tensorrt-repo-cuda10.0-trt5.1.2.2-rc-20190227  uff-converter-tf 5.1.2-1+cuda10.0 [37.5 kB]\n",
            "Selecting previously unselected package graphsurgeon-tf.\n",
            "(Reading database ... 133016 files and directories currently installed.)\n",
            "Preparing to unpack .../graphsurgeon-tf_5.1.2-1+cuda10.0_amd64.deb ...\n",
            "Unpacking graphsurgeon-tf (5.1.2-1+cuda10.0) ...\n",
            "Selecting previously unselected package uff-converter-tf.\n",
            "Preparing to unpack .../uff-converter-tf_5.1.2-1+cuda10.0_amd64.deb ...\n",
            "Unpacking uff-converter-tf (5.1.2-1+cuda10.0) ...\n",
            "Setting up graphsurgeon-tf (5.1.2-1+cuda10.0) ...\n",
            "Setting up uff-converter-tf (5.1.2-1+cuda10.0) ...\n"
          ],
          "name": "stdout"
        }
      ]
    },
    {
      "cell_type": "markdown",
      "metadata": {
        "id": "5rSvFhdFgVVq",
        "colab_type": "text"
      },
      "source": [
        "克隆open_nsfw的tensorflow版本代码库："
      ]
    },
    {
      "cell_type": "code",
      "metadata": {
        "id": "fYL_VFgJgUjr",
        "colab_type": "code",
        "outputId": "07adb434-9fdf-4b6d-cd3d-60193578f4b9",
        "colab": {
          "base_uri": "https://localhost:8080/",
          "height": 136
        }
      },
      "source": [
        "!git clone https://github.com/mogoweb/tensorflow-open_nsfw.git"
      ],
      "execution_count": 8,
      "outputs": [
        {
          "output_type": "stream",
          "text": [
            "Cloning into 'tensorflow-open_nsfw'...\n",
            "remote: Enumerating objects: 51, done.\u001b[K\n",
            "remote: Counting objects: 100% (51/51), done.\u001b[K\n",
            "remote: Compressing objects: 100% (29/29), done.\u001b[K\n",
            "remote: Total 130 (delta 26), reused 46 (delta 22), pack-reused 79\u001b[K\n",
            "Receiving objects: 100% (130/130), 21.13 MiB | 19.43 MiB/s, done.\n",
            "Resolving deltas: 100% (66/66), done.\n"
          ],
          "name": "stdout"
        }
      ]
    },
    {
      "cell_type": "code",
      "metadata": {
        "id": "TprdmPk1g3o6",
        "colab_type": "code",
        "colab": {}
      },
      "source": [
        "os.chdir(os.path.join(project_path, \"tensorflow-open_nsfw\"))"
      ],
      "execution_count": 0,
      "outputs": []
    },
    {
      "cell_type": "markdown",
      "metadata": {
        "id": "bS1LApIIZ1WS",
        "colab_type": "text"
      },
      "source": [
        "判断单个图片是否色情图片，请根据实际情况替换后面的图片路径："
      ]
    },
    {
      "cell_type": "code",
      "metadata": {
        "id": "549_3v9GhPDI",
        "colab_type": "code",
        "outputId": "2c11eeef-fc43-4ec5-b0c4-a1a5050b09f9",
        "colab": {
          "base_uri": "https://localhost:8080/",
          "height": 717
        }
      },
      "source": [
        "!python classify_nsfw.py -m data/open_nsfw-weights.npy ../test/porn/23241c38-a7f7-44c0-9faa-4bed8dfff3a4.jpg"
      ],
      "execution_count": 6,
      "outputs": [
        {
          "output_type": "stream",
          "text": [
            "2019-05-20 08:36:45.008917: I tensorflow/core/platform/profile_utils/cpu_utils.cc:94] CPU Frequency: 2200000000 Hz\n",
            "2019-05-20 08:36:45.009204: I tensorflow/compiler/xla/service/service.cc:150] XLA service 0x32c71e0 executing computations on platform Host. Devices:\n",
            "2019-05-20 08:36:45.009241: I tensorflow/compiler/xla/service/service.cc:158]   StreamExecutor device (0): <undefined>, <undefined>\n",
            "2019-05-20 08:36:45.242438: I tensorflow/stream_executor/cuda/cuda_gpu_executor.cc:998] successful NUMA node read from SysFS had negative value (-1), but there must be at least one NUMA node, so returning NUMA node zero\n",
            "2019-05-20 08:36:45.242999: I tensorflow/compiler/xla/service/service.cc:150] XLA service 0x32c6dc0 executing computations on platform CUDA. Devices:\n",
            "2019-05-20 08:36:45.243028: I tensorflow/compiler/xla/service/service.cc:158]   StreamExecutor device (0): Tesla T4, Compute Capability 7.5\n",
            "2019-05-20 08:36:45.243365: I tensorflow/core/common_runtime/gpu/gpu_device.cc:1433] Found device 0 with properties: \n",
            "name: Tesla T4 major: 7 minor: 5 memoryClockRate(GHz): 1.59\n",
            "pciBusID: 0000:00:04.0\n",
            "totalMemory: 14.73GiB freeMemory: 14.60GiB\n",
            "2019-05-20 08:36:45.243388: I tensorflow/core/common_runtime/gpu/gpu_device.cc:1512] Adding visible gpu devices: 0\n",
            "2019-05-20 08:36:46.640824: I tensorflow/core/common_runtime/gpu/gpu_device.cc:984] Device interconnect StreamExecutor with strength 1 edge matrix:\n",
            "2019-05-20 08:36:46.640917: I tensorflow/core/common_runtime/gpu/gpu_device.cc:990]      0 \n",
            "2019-05-20 08:36:46.640928: I tensorflow/core/common_runtime/gpu/gpu_device.cc:1003] 0:   N \n",
            "2019-05-20 08:36:46.641198: W tensorflow/core/common_runtime/gpu/gpu_bfc_allocator.cc:42] Overriding allow_growth setting because the TF_FORCE_GPU_ALLOW_GROWTH environment variable is set. Original config value was 0.\n",
            "2019-05-20 08:36:46.641284: I tensorflow/core/common_runtime/gpu/gpu_device.cc:1115] Created TensorFlow device (/job:localhost/replica:0/task:0/device:GPU:0 with 14115 MB memory) -> physical GPU (device: 0, name: Tesla T4, pci bus id: 0000:00:04.0, compute capability: 7.5)\n",
            "WARNING:tensorflow:From /content/gdrive/My Drive/nvidia/tensorflow-open_nsfw/model.py:158: conv2d (from tensorflow.python.layers.convolutional) is deprecated and will be removed in a future version.\n",
            "Instructions for updating:\n",
            "Use keras.layers.conv2d instead.\n",
            "WARNING:tensorflow:From /usr/local/lib/python3.6/dist-packages/tensorflow/python/framework/op_def_library.py:263: colocate_with (from tensorflow.python.framework.ops) is deprecated and will be removed in a future version.\n",
            "Instructions for updating:\n",
            "Colocations handled automatically by placer.\n",
            "WARNING:tensorflow:From /content/gdrive/My Drive/nvidia/tensorflow-open_nsfw/model.py:171: batch_normalization (from tensorflow.python.layers.normalization) is deprecated and will be removed in a future version.\n",
            "Instructions for updating:\n",
            "Use keras.layers.batch_normalization instead.\n",
            "WARNING:tensorflow:From /content/gdrive/My Drive/nvidia/tensorflow-open_nsfw/model.py:55: max_pooling2d (from tensorflow.python.layers.pooling) is deprecated and will be removed in a future version.\n",
            "Instructions for updating:\n",
            "Use keras.layers.max_pooling2d instead.\n",
            "WARNING:tensorflow:From /content/gdrive/My Drive/nvidia/tensorflow-open_nsfw/model.py:101: average_pooling2d (from tensorflow.python.layers.pooling) is deprecated and will be removed in a future version.\n",
            "Instructions for updating:\n",
            "Use keras.layers.average_pooling2d instead.\n",
            "WARNING:tensorflow:From /content/gdrive/My Drive/nvidia/tensorflow-open_nsfw/model.py:131: dense (from tensorflow.python.layers.core) is deprecated and will be removed in a future version.\n",
            "Instructions for updating:\n",
            "Use keras.layers.dense instead.\n",
            "/usr/local/lib/python3.6/dist-packages/skimage/io/_io.py:49: UserWarning: `as_grey` has been deprecated in favor of `as_gray`\n",
            "  warn('`as_grey` has been deprecated in favor of `as_gray`')\n",
            "2019-05-20 08:37:05.919006: I tensorflow/stream_executor/dso_loader.cc:152] successfully opened CUDA library libcublas.so.10.0 locally\n",
            "Results for '../test/porn/23241c38-a7f7-44c0-9faa-4bed8dfff3a4.jpg'\n",
            "\tSFW score:\t0.002210440579801798\n",
            "\tNSFW score:\t0.9977895021438599\n"
          ],
          "name": "stdout"
        }
      ]
    },
    {
      "cell_type": "markdown",
      "metadata": {
        "id": "4KTybioOaXcI",
        "colab_type": "text"
      },
      "source": [
        "导出tensorflow模型图："
      ]
    },
    {
      "cell_type": "code",
      "metadata": {
        "id": "_VVRbSxyZCoS",
        "colab_type": "code",
        "colab": {
          "base_uri": "https://localhost:8080/",
          "height": 972
        },
        "outputId": "bd1c1065-21ee-4f4c-9941-3b001fc6a606"
      },
      "source": [
        "!python tools/export_graph.py -m ./data/open_nsfw-weights.npy -i tensor -f ./data/models/"
      ],
      "execution_count": 13,
      "outputs": [
        {
          "output_type": "stream",
          "text": [
            "2019-05-20 08:58:43.129808: I tensorflow/core/platform/profile_utils/cpu_utils.cc:94] CPU Frequency: 2200000000 Hz\n",
            "2019-05-20 08:58:43.130011: I tensorflow/compiler/xla/service/service.cc:150] XLA service 0x27c6520 executing computations on platform Host. Devices:\n",
            "2019-05-20 08:58:43.130039: I tensorflow/compiler/xla/service/service.cc:158]   StreamExecutor device (0): <undefined>, <undefined>\n",
            "2019-05-20 08:58:43.305385: I tensorflow/stream_executor/cuda/cuda_gpu_executor.cc:998] successful NUMA node read from SysFS had negative value (-1), but there must be at least one NUMA node, so returning NUMA node zero\n",
            "2019-05-20 08:58:43.305906: I tensorflow/compiler/xla/service/service.cc:150] XLA service 0x27c5e40 executing computations on platform CUDA. Devices:\n",
            "2019-05-20 08:58:43.305937: I tensorflow/compiler/xla/service/service.cc:158]   StreamExecutor device (0): Tesla T4, Compute Capability 7.5\n",
            "2019-05-20 08:58:43.306294: I tensorflow/core/common_runtime/gpu/gpu_device.cc:1433] Found device 0 with properties: \n",
            "name: Tesla T4 major: 7 minor: 5 memoryClockRate(GHz): 1.59\n",
            "pciBusID: 0000:00:04.0\n",
            "totalMemory: 14.73GiB freeMemory: 14.60GiB\n",
            "2019-05-20 08:58:43.306316: I tensorflow/core/common_runtime/gpu/gpu_device.cc:1512] Adding visible gpu devices: 0\n",
            "2019-05-20 08:58:43.786047: I tensorflow/core/common_runtime/gpu/gpu_device.cc:984] Device interconnect StreamExecutor with strength 1 edge matrix:\n",
            "2019-05-20 08:58:43.786114: I tensorflow/core/common_runtime/gpu/gpu_device.cc:990]      0 \n",
            "2019-05-20 08:58:43.786127: I tensorflow/core/common_runtime/gpu/gpu_device.cc:1003] 0:   N \n",
            "2019-05-20 08:58:43.786376: W tensorflow/core/common_runtime/gpu/gpu_bfc_allocator.cc:42] Overriding allow_growth setting because the TF_FORCE_GPU_ALLOW_GROWTH environment variable is set. Original config value was 0.\n",
            "2019-05-20 08:58:43.786426: I tensorflow/core/common_runtime/gpu/gpu_device.cc:1115] Created TensorFlow device (/job:localhost/replica:0/task:0/device:GPU:0 with 14115 MB memory) -> physical GPU (device: 0, name: Tesla T4, pci bus id: 0000:00:04.0, compute capability: 7.5)\n",
            "WARNING:tensorflow:From /content/gdrive/My Drive/nvidia/tensorflow-open_nsfw/model.py:158: conv2d (from tensorflow.python.layers.convolutional) is deprecated and will be removed in a future version.\n",
            "Instructions for updating:\n",
            "Use keras.layers.conv2d instead.\n",
            "WARNING:tensorflow:From /usr/local/lib/python3.6/dist-packages/tensorflow/python/framework/op_def_library.py:263: colocate_with (from tensorflow.python.framework.ops) is deprecated and will be removed in a future version.\n",
            "Instructions for updating:\n",
            "Colocations handled automatically by placer.\n",
            "WARNING:tensorflow:From /content/gdrive/My Drive/nvidia/tensorflow-open_nsfw/model.py:171: batch_normalization (from tensorflow.python.layers.normalization) is deprecated and will be removed in a future version.\n",
            "Instructions for updating:\n",
            "Use keras.layers.batch_normalization instead.\n",
            "WARNING:tensorflow:From /content/gdrive/My Drive/nvidia/tensorflow-open_nsfw/model.py:55: max_pooling2d (from tensorflow.python.layers.pooling) is deprecated and will be removed in a future version.\n",
            "Instructions for updating:\n",
            "Use keras.layers.max_pooling2d instead.\n",
            "WARNING:tensorflow:From /content/gdrive/My Drive/nvidia/tensorflow-open_nsfw/model.py:101: average_pooling2d (from tensorflow.python.layers.pooling) is deprecated and will be removed in a future version.\n",
            "Instructions for updating:\n",
            "Use keras.layers.average_pooling2d instead.\n",
            "WARNING:tensorflow:From /content/gdrive/My Drive/nvidia/tensorflow-open_nsfw/model.py:131: dense (from tensorflow.python.layers.core) is deprecated and will be removed in a future version.\n",
            "Instructions for updating:\n",
            "Use keras.layers.dense instead.\n",
            "Checkpoint exported to ./data/models/open_nsfw.ckpt\n",
            "Graph exported to ./data/models/open_nsfw.pb\n",
            "Freezing graph...\n",
            "WARNING:tensorflow:From /usr/local/lib/python3.6/dist-packages/tensorflow/python/tools/freeze_graph.py:249: FastGFile.__init__ (from tensorflow.python.platform.gfile) is deprecated and will be removed in a future version.\n",
            "Instructions for updating:\n",
            "Use tf.gfile.GFile.\n",
            "WARNING:tensorflow:From /usr/local/lib/python3.6/dist-packages/tensorflow/python/tools/freeze_graph.py:127: checkpoint_exists (from tensorflow.python.training.checkpoint_management) is deprecated and will be removed in a future version.\n",
            "Instructions for updating:\n",
            "Use standard file APIs to check for files with this prefix.\n",
            "2019-05-20 08:58:47.148859: I tensorflow/core/common_runtime/gpu/gpu_device.cc:1512] Adding visible gpu devices: 0\n",
            "2019-05-20 08:58:47.148923: I tensorflow/core/common_runtime/gpu/gpu_device.cc:984] Device interconnect StreamExecutor with strength 1 edge matrix:\n",
            "2019-05-20 08:58:47.148940: I tensorflow/core/common_runtime/gpu/gpu_device.cc:990]      0 \n",
            "2019-05-20 08:58:47.148950: I tensorflow/core/common_runtime/gpu/gpu_device.cc:1003] 0:   N \n",
            "2019-05-20 08:58:47.149201: I tensorflow/core/common_runtime/gpu/gpu_device.cc:1115] Created TensorFlow device (/job:localhost/replica:0/task:0/device:GPU:0 with 14115 MB memory) -> physical GPU (device: 0, name: Tesla T4, pci bus id: 0000:00:04.0, compute capability: 7.5)\n",
            "WARNING:tensorflow:From /usr/local/lib/python3.6/dist-packages/tensorflow/python/tools/freeze_graph.py:232: convert_variables_to_constants (from tensorflow.python.framework.graph_util_impl) is deprecated and will be removed in a future version.\n",
            "Instructions for updating:\n",
            "Use tf.compat.v1.graph_util.convert_variables_to_constants\n",
            "WARNING:tensorflow:From /usr/local/lib/python3.6/dist-packages/tensorflow/python/framework/graph_util_impl.py:245: extract_sub_graph (from tensorflow.python.framework.graph_util_impl) is deprecated and will be removed in a future version.\n",
            "Instructions for updating:\n",
            "Use tf.compat.v1.graph_util.extract_sub_graph\n",
            "Frozen graph exported to ./data/models/frozen_open_nsfw.pb\n"
          ],
          "name": "stdout"
        }
      ]
    },
    {
      "cell_type": "markdown",
      "metadata": {
        "id": "OOu2Gof_m_Ol",
        "colab_type": "text"
      },
      "source": [
        "判断测试集图片，图片位于指定目录下："
      ]
    },
    {
      "cell_type": "code",
      "metadata": {
        "id": "bgfDAE8uXvkR",
        "colab_type": "code",
        "colab": {
          "base_uri": "https://localhost:8080/",
          "height": 547
        },
        "outputId": "97a3dc56-be2e-4ef7-b7a3-5e87dd3d831b"
      },
      "source": [
        "!python opt/benchmark_classify_nsfw.py -i ../test/porn -m ./data/models/frozen_open_nsfw.pb"
      ],
      "execution_count": 32,
      "outputs": [
        {
          "output_type": "stream",
          "text": [
            "WARNING:tensorflow:From /content/gdrive/My Drive/nvidia/tensorflow-open_nsfw/opt/nsfw_trt_utils.py:7: FastGFile.__init__ (from tensorflow.python.platform.gfile) is deprecated and will be removed in a future version.\n",
            "Instructions for updating:\n",
            "Use tf.gfile.GFile.\n",
            "2019-05-20 09:38:23.213304: I tensorflow/core/platform/profile_utils/cpu_utils.cc:94] CPU Frequency: 2200000000 Hz\n",
            "2019-05-20 09:38:23.213517: I tensorflow/compiler/xla/service/service.cc:150] XLA service 0x2812260 executing computations on platform Host. Devices:\n",
            "2019-05-20 09:38:23.213568: I tensorflow/compiler/xla/service/service.cc:158]   StreamExecutor device (0): <undefined>, <undefined>\n",
            "2019-05-20 09:38:23.370835: I tensorflow/stream_executor/cuda/cuda_gpu_executor.cc:998] successful NUMA node read from SysFS had negative value (-1), but there must be at least one NUMA node, so returning NUMA node zero\n",
            "2019-05-20 09:38:23.371418: I tensorflow/compiler/xla/service/service.cc:150] XLA service 0x2811e40 executing computations on platform CUDA. Devices:\n",
            "2019-05-20 09:38:23.371451: I tensorflow/compiler/xla/service/service.cc:158]   StreamExecutor device (0): Tesla T4, Compute Capability 7.5\n",
            "2019-05-20 09:38:23.371799: I tensorflow/core/common_runtime/gpu/gpu_device.cc:1433] Found device 0 with properties: \n",
            "name: Tesla T4 major: 7 minor: 5 memoryClockRate(GHz): 1.59\n",
            "pciBusID: 0000:00:04.0\n",
            "totalMemory: 14.73GiB freeMemory: 14.60GiB\n",
            "2019-05-20 09:38:23.371823: I tensorflow/core/common_runtime/gpu/gpu_device.cc:1512] Adding visible gpu devices: 0\n",
            "2019-05-20 09:38:23.845688: I tensorflow/core/common_runtime/gpu/gpu_device.cc:984] Device interconnect StreamExecutor with strength 1 edge matrix:\n",
            "2019-05-20 09:38:23.845771: I tensorflow/core/common_runtime/gpu/gpu_device.cc:990]      0 \n",
            "2019-05-20 09:38:23.845792: I tensorflow/core/common_runtime/gpu/gpu_device.cc:1003] 0:   N \n",
            "2019-05-20 09:38:23.846204: I tensorflow/core/common_runtime/gpu/gpu_device.cc:1115] Created TensorFlow device (/job:localhost/replica:0/task:0/device:GPU:0 with 14115 MB memory) -> physical GPU (device: 0, name: Tesla T4, pci bus id: 0000:00:04.0, compute capability: 7.5)\n",
            "input_tensor_name: input:0\n",
            "output_tensor_name: predictions:0\n",
            "\n",
            "get_tensor_by_name\n",
            "\n",
            "fn_load_image\n",
            "\n",
            "  0% 0/2000 [00:00<?, ?it/s]/usr/local/lib/python3.6/dist-packages/skimage/io/_io.py:49: UserWarning: `as_grey` has been deprecated in favor of `as_gray`\n",
            "  warn('`as_grey` has been deprecated in favor of `as_gray`')\n",
            "2019-05-20 09:38:25.288479: I tensorflow/stream_executor/dso_loader.cc:152] successfully opened CUDA library libcublas.so.10.0 locally\n",
            "100% 2000/2000 [00:48<00:00, 41.64it/s]\n",
            "load & predict time: 32200ms\n"
          ],
          "name": "stdout"
        }
      ]
    }
  ]
}